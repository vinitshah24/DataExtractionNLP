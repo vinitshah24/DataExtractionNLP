{
 "cells": [
  {
   "cell_type": "code",
   "execution_count": 1,
   "metadata": {},
   "outputs": [],
   "source": [
    "import re"
   ]
  },
  {
   "cell_type": "code",
   "execution_count": 2,
   "metadata": {},
   "outputs": [],
   "source": [
    "data = open('simplewiki.xml', 'r', encoding='utf-8')\n",
    "lines = data.readlines()"
   ]
  },
  {
   "cell_type": "code",
   "execution_count": 3,
   "metadata": {
    "scrolled": false
   },
   "outputs": [
    {
     "name": "stdout",
     "output_type": "stream",
     "text": [
      "# Lines: 17117480\n"
     ]
    }
   ],
   "source": [
    "print(f\"# Lines: {len(lines)}\")"
   ]
  },
  {
   "cell_type": "markdown",
   "metadata": {},
   "source": [
    "### Figure out which articles are about the person in the title. "
   ]
  },
  {
   "cell_type": "raw",
   "metadata": {},
   "source": [
    "import re\n",
    "\n",
    "txt = \" 'August is named for [[Augustus Caesar]] who became [[Roman consul]] in this month.&lt;ref name=&quot;infoplease&quot;&gt;{{Citation |title=History of August |url=http://www.infoplease.com/spot/history-of-august.html }}&lt;/ref&gt; The month has 31 days because [[Julius Caesar]] added two days when he created the [[Julian calendar]] in [[45 BC]]. August is after July and before September.\\n',\"\n",
    "\n",
    "x = re.findall(r\"\\[\\[.*?\\]\\]\", txt)\n",
    "print(x)\n",
    "\n",
    "y = re.findall(\"\\[\\[([^\\]]+)\", txt)\n",
    "print(y)"
   ]
  },
  {
   "cell_type": "code",
   "execution_count": 4,
   "metadata": {},
   "outputs": [],
   "source": [
    "found_list = []\n",
    "for line in lines:\n",
    "    find = re.findall(\"\\[\\[([^\\]]+)\", line)\n",
    "    found_list.append(find)"
   ]
  },
  {
   "cell_type": "code",
   "execution_count": 5,
   "metadata": {},
   "outputs": [],
   "source": [
    "with open('output/names.txt', 'w+', encoding=\"utf-8\") as f:\n",
    "    for arr in found_list:\n",
    "        if len(arr) > 0:\n",
    "            for item in arr:\n",
    "                if \"|\" in item:\n",
    "                    item = item.split(\"|\")\n",
    "                    for itm in item:\n",
    "                        matches = re.findall('[0-9]', itm)\n",
    "                        if len(matches) < 1:\n",
    "                            if \":\" not in itm and \"&lt;\" not in itm \\\n",
    "                                                        and len(itm) > 2:\n",
    "                                f.write(f\"{itm}\\n\")\n",
    "                else:\n",
    "                    matches = re.findall('[0-9]', item)\n",
    "                    if len(matches) < 1:\n",
    "                        if \":\" not in item and \"&lt;\" not in item and len(\n",
    "                                item) > 2:\n",
    "                            f.write(f\"{item}\\n\")"
   ]
  },
  {
   "cell_type": "code",
   "execution_count": 6,
   "metadata": {
    "scrolled": true
   },
   "outputs": [
    {
     "name": "stdout",
     "output_type": "stream",
     "text": [
      "6250065 lines found\n"
     ]
    }
   ],
   "source": [
    "with open('output/names.txt', 'r', encoding=\"utf-8\") as f:\n",
    "    data = f.read().splitlines()\n",
    "print(f\"{len(data)} lines found before cleanup\")"
   ]
  },
  {
   "cell_type": "code",
   "execution_count": 7,
   "metadata": {},
   "outputs": [],
   "source": [
    "clean_data = []\n",
    "for line in data:\n",
    "    # Remove {} and ''\n",
    "    clean_line = line.replace(\"{\",\"\").replace(\"}\",\"\").replace(\"'\",\"\")\n",
    "    # Remove everything inside ()\n",
    "    clean_line = re.sub(r'\\([^)]*\\)', '', clean_line)\n",
    "    # Remove evrything after [\n",
    "    clean_line = clean_line.split(\"[\")[0].strip()\n",
    "    if len(clean_line) > 1:\n",
    "        clean_data.append(clean_line)"
   ]
  },
  {
   "cell_type": "code",
   "execution_count": 8,
   "metadata": {},
   "outputs": [],
   "source": [
    "# Remove duplicates\n",
    "data = list(set(clean_data))\n",
    "print(f\"{len(data)} lines found after cleanup\")"
   ]
  },
  {
   "cell_type": "code",
   "execution_count": 9,
   "metadata": {
    "scrolled": true
   },
   "outputs": [],
   "source": [
    "import os\n",
    "\n",
    "dir_name = \"names\"\n",
    "name_files = [\n",
    "    f for f in os.listdir(dir_name)\n",
    "    if os.path.isfile(os.path.join(dir_name, f))\n",
    "]"
   ]
  },
  {
   "cell_type": "raw",
   "metadata": {},
   "source": [
    "with open(\"names/yob1987.txt\", \"r\") as f:\n",
    "    linenames = [line.strip().split(\",\")[0] for line in f]\n",
    "\n",
    "# Remove duplicates\n",
    "linenames = list(set(linenames))"
   ]
  },
  {
   "cell_type": "code",
   "execution_count": 12,
   "metadata": {},
   "outputs": [],
   "source": [
    "def write_names(raw_data, names_file, dir_name=\"names\", out_dir_name=\"output\"):\n",
    "\n",
    "    print(f\"Running {names_file}\")\n",
    "\n",
    "    # Get names to compare\n",
    "    with open(f\"{dir_name}/{names_file}\", \"r\", encoding=\"utf-8\") as f:\n",
    "        linenames = [line.strip().split(\",\")[0] for line in f]\n",
    "        linenames = list(set(linenames))\n",
    "\n",
    "    print(f\"Completed reading file\")\n",
    "    \n",
    "    output_file = names_file.split(\".\")[0] + \".out\"\n",
    "\n",
    "    # Find matches in raw data and write output\n",
    "    with open(f\"{out_dir_name}/{output_file}\", \"w+\", encoding=\"utf-8\") as out:\n",
    "        for rd in raw_data:\n",
    "            for name in linenames:\n",
    "                if name in rd:\n",
    "                    out.write(str(rd) + \"\\n\")\n",
    "                    break\n",
    "    print(f\"Job completed for {output_file}\")"
   ]
  },
  {
   "cell_type": "raw",
   "metadata": {},
   "source": [
    "import threading\n",
    "\n",
    "jobs = []\n",
    "for file in name_files:\n",
    "    thread = threading.Thread(target=write_names, args=(data, file))\n",
    "    jobs.append(thread)\n",
    "\n",
    "print(f\"JOBS: {jobs}\")\n",
    "\n",
    "# Start the threads\n",
    "for j in jobs:\n",
    "    j.start()\n",
    "\n",
    "# Ensure all of the threads have finished\n",
    "for j in jobs:\n",
    "    j.join()"
   ]
  },
  {
   "cell_type": "code",
   "execution_count": 13,
   "metadata": {},
   "outputs": [
    {
     "name": "stdout",
     "output_type": "stream",
     "text": [
      "Running yob2019.txt\n",
      "Completed reading file\n",
      "Job completed for yob2019.out\n"
     ]
    }
   ],
   "source": [
    "write_names(raw_data=data, names_file=\"yob2019.txt\", dir_name=\"names\", out_dir_name=\"output\")"
   ]
  }
 ],
 "metadata": {
  "kernelspec": {
   "display_name": "Python 3",
   "language": "python",
   "name": "python3"
  },
  "language_info": {
   "codemirror_mode": {
    "name": "ipython",
    "version": 3
   },
   "file_extension": ".py",
   "mimetype": "text/x-python",
   "name": "python",
   "nbconvert_exporter": "python",
   "pygments_lexer": "ipython3",
   "version": "3.8.5"
  }
 },
 "nbformat": 4,
 "nbformat_minor": 4
}
